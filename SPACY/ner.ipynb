{
 "cells": [
  {
   "cell_type": "code",
   "execution_count": 1,
   "metadata": {},
   "outputs": [],
   "source": [
    "import spacy"
   ]
  },
  {
   "cell_type": "code",
   "execution_count": 5,
   "metadata": {},
   "outputs": [
    {
     "name": "stdout",
     "output_type": "stream",
     "text": [
      "('How to preorder the iPhone X', {'entities': [(20, 28, 'GADGET')]})\n",
      "('iPhone X is coming', {'entities': [(0, 8, 'GADGET')]})\n",
      "('Should I pay $1,000 for the iPhone X?', {'entities': [(28, 36, 'GADGET')]})\n",
      "('The iPhone 8 reviews are here', {'entities': [(4, 12, 'GADGET')]})\n",
      "(\"iPhone 11 vs iPhone 8: What's the difference?\", {'entities': [(0, 9, 'GADGET'), (13, 21, 'GADGET')]})\n",
      "('I need a new phone! Any tips?', {'entities': []})\n"
     ]
    }
   ],
   "source": [
    "import spacy\n",
    "from spacy.matcher import Matcher\n",
    "from spacy.lang.en import English\n",
    "\n",
    "# list of texts\n",
    "TEXTS = [\n",
    "    'How to preorder the iPhone X', \n",
    "    'iPhone X is coming', \n",
    "    'Should I pay $1,000 for the iPhone X?', \n",
    "    'The iPhone 8 reviews are here', \n",
    "    \"iPhone 11 vs iPhone 8: What's the difference?\", \n",
    "    'I need a new phone! Any tips?'\n",
    "]\n",
    "\n",
    "nlp = English()\n",
    "matcher = Matcher(nlp.vocab)\n",
    "\n",
    "pattern1 = [{\"LOWER\": \"iphone\"}, {\"LOWER\": \"x\"}]\n",
    "pattern2 = [{\"LOWER\": \"iphone\"}, {\"IS_DIGIT\": True}]\n",
    "\n",
    "matcher.add(\"GADGET\", [pattern1, pattern2])\n",
    "\n",
    "TRAINING_DATA = []\n",
    "\n",
    "for doc in nlp.pipe(TEXTS):\n",
    "    spans = [doc[start:end] for match_id, start, end in matcher(doc)]\n",
    "    \n",
    "    entities = [(span.start_char, span.end_char, \"GADGET\") for span in spans]\n",
    "    \n",
    "    training_example = (doc.text, {\"entities\": entities})\n",
    "    \n",
    "    TRAINING_DATA.append(training_example)\n",
    "    \n",
    "print(*TRAINING_DATA, sep='\\n')\n"
   ]
  },
  {
   "cell_type": "code",
   "execution_count": 9,
   "metadata": {},
   "outputs": [
    {
     "name": "stdout",
     "output_type": "stream",
     "text": [
      "Iteration 1, Losses: {'ner': 33.369244396686554}\n",
      "Iteration 2, Losses: {'ner': 28.604082584381104}\n",
      "Iteration 3, Losses: {'ner': 23.18955487012863}\n",
      "Iteration 4, Losses: {'ner': 17.599724858999252}\n",
      "Iteration 5, Losses: {'ner': 12.705267533659935}\n",
      "Iteration 6, Losses: {'ner': 10.056395938619971}\n",
      "Iteration 7, Losses: {'ner': 8.688676697405754}\n",
      "Iteration 8, Losses: {'ner': 8.305009263451211}\n",
      "Iteration 9, Losses: {'ner': 8.039836566778831}\n",
      "Iteration 10, Losses: {'ner': 11.590834258095128}\n",
      "Iteration 11, Losses: {'ner': 8.763339522655542}\n",
      "Iteration 12, Losses: {'ner': 7.671925151346841}\n",
      "Iteration 13, Losses: {'ner': 7.51165466654038}\n",
      "Iteration 14, Losses: {'ner': 9.626840226197146}\n",
      "Iteration 15, Losses: {'ner': 5.99850064320708}\n",
      "Iteration 16, Losses: {'ner': 6.060723724150421}\n",
      "Iteration 17, Losses: {'ner': 5.578195828218668}\n",
      "Iteration 18, Losses: {'ner': 3.0966112087226065}\n",
      "Iteration 19, Losses: {'ner': 3.790778921229503}\n",
      "Iteration 20, Losses: {'ner': 2.0184103843882384}\n",
      "Iteration 21, Losses: {'ner': 2.2059167033593807}\n",
      "Iteration 22, Losses: {'ner': 2.1962181975768695}\n",
      "Iteration 23, Losses: {'ner': 2.824556023517528}\n",
      "Iteration 24, Losses: {'ner': 1.8529530143849977}\n",
      "Iteration 25, Losses: {'ner': 1.6232217665003468}\n",
      "Iteration 26, Losses: {'ner': 1.8013135957614095}\n",
      "Iteration 27, Losses: {'ner': 2.017453176307077}\n",
      "Iteration 28, Losses: {'ner': 1.847714045742432}\n",
      "Iteration 29, Losses: {'ner': 4.084118446833346}\n",
      "Iteration 30, Losses: {'ner': 1.7864090960762782}\n",
      "Iteration 31, Losses: {'ner': 1.9365118572855102}\n",
      "Iteration 32, Losses: {'ner': 1.6437300325958955}\n",
      "Iteration 33, Losses: {'ner': 1.9324763101724887}\n",
      "Iteration 34, Losses: {'ner': 1.713283359820553}\n",
      "Iteration 35, Losses: {'ner': 2.0090628205434355}\n",
      "Iteration 36, Losses: {'ner': 1.647561725935437}\n",
      "Iteration 37, Losses: {'ner': 1.471864598208074}\n",
      "Iteration 38, Losses: {'ner': 0.8262892041954114}\n",
      "Iteration 39, Losses: {'ner': 0.5291707903334752}\n",
      "Iteration 40, Losses: {'ner': 0.9461121627934638}\n",
      "Iteration 41, Losses: {'ner': 1.4953529442779219}\n",
      "Iteration 42, Losses: {'ner': 0.4638586870006643}\n",
      "Iteration 43, Losses: {'ner': 1.2019181541796755}\n",
      "Iteration 44, Losses: {'ner': 0.1970380533039745}\n",
      "Iteration 45, Losses: {'ner': 1.9958520076072606}\n",
      "Iteration 46, Losses: {'ner': 1.9246965153347968}\n",
      "Iteration 47, Losses: {'ner': 0.12830810601290865}\n",
      "Iteration 48, Losses: {'ner': 0.07439308645291828}\n",
      "Iteration 49, Losses: {'ner': 1.681972414562831}\n",
      "Iteration 50, Losses: {'ner': 0.018327157810408844}\n"
     ]
    }
   ],
   "source": [
    "import spacy\n",
    "import random\n",
    "from spacy.training import Example\n",
    "from spacy.util import minibatch\n",
    "\n",
    "examples = [\n",
    "    ['How to preorder the iPhone X', {'entities': [(20, 28, 'GADGET')]}], \n",
    "    ['iPhone X is coming', {'entities': [(0, 8, 'GADGET')]}], \n",
    "    ['Should I pay $1,000 for the iPhone X?', {'entities': [(28, 36, 'GADGET')]}], \n",
    "    ['The iPhone 8 reviews are here', {'entities': [(4, 12, 'GADGET')]}], \n",
    "    ['Your iPhone goes up to 11 today', {'entities': [(5, 11, 'GADGET')]}], \n",
    "    ['I need a new phone! Any tips?', {'entities': []}]\n",
    "]\n",
    "\n",
    "nlp = spacy.blank(\"en\")\n",
    "\n",
    "if \"ner\" not in nlp.pipe_names:\n",
    "    ner = nlp.add_pipe(\"ner\", last=True)\n",
    "\n",
    "ner.add_label(\"GADGET\")\n",
    "\n",
    "nlp.initialize()\n",
    "\n",
    "for iteration in range(50):\n",
    "    random.shuffle(examples)\n",
    "    losses = {}\n",
    "    batches = minibatch(examples, size=2)\n",
    "    \n",
    "    for batch in batches:\n",
    "        texts = [text for text, annotations in batch]\n",
    "        annotations = [annotations for text, annotations in batch]\n",
    "        \n",
    "        examples_batch = [Example.from_dict(nlp.make_doc(text), annotation) for text, annotation in zip(texts, annotations)]\n",
    "        \n",
    "        nlp.update(examples=examples_batch, losses=losses, drop=0.5)\n",
    "    \n",
    "    print(f\"Iteration {iteration + 1}, Losses: {losses}\")\n",
    "\n",
    "nlp.to_disk(\"ner_model\")\n"
   ]
  },
  {
   "cell_type": "code",
   "execution_count": 10,
   "metadata": {},
   "outputs": [],
   "source": [
    "import spacy\n",
    "\n",
    "nlp = spacy.load(\"ner_model\")\n"
   ]
  },
  {
   "cell_type": "code",
   "execution_count": 11,
   "metadata": {},
   "outputs": [
    {
     "name": "stdout",
     "output_type": "stream",
     "text": [
      "Text: I just bought a new iPhone 13!\n",
      " - Entity: iPhone 13, Label: GADGET\n",
      "\n",
      "\n",
      "Text: Is the Samsung Galaxy S21 better than the iPhone 12?\n",
      " - Entity: iPhone 12, Label: GADGET\n",
      "\n",
      "\n",
      "Text: The iPhone X and iPhone 11 are both great phones.\n",
      " - Entity: iPhone X, Label: GADGET\n",
      " - Entity: iPhone 11, Label: GADGET\n",
      "\n",
      "\n",
      "Text: What do you think about the new iPhone 15 Pro?\n",
      " - Entity: iPhone 15, Label: GADGET\n",
      "\n",
      "\n",
      "Text: My friend got the iPhone 8, and he loves it.\n",
      " - Entity: iPhone 8, Label: GADGET\n",
      " - Entity: it., Label: GADGET\n",
      "\n",
      "\n"
     ]
    }
   ],
   "source": [
    "texts = [\n",
    "    \"I just bought a new iPhone 13!\",\n",
    "    \"Is the Samsung Galaxy S21 better than the iPhone 12?\",\n",
    "    \"The iPhone X and iPhone 11 are both great phones.\",\n",
    "    \"What do you think about the new iPhone 15 Pro?\",\n",
    "    \"My friend got the iPhone 8, and he loves it.\"\n",
    "]\n",
    "\n",
    "for text in texts:\n",
    "    doc = nlp(text)\n",
    "    print(f\"Text: {text}\")\n",
    "    \n",
    "    for ent in doc.ents:\n",
    "        print(f\" - Entity: {ent.text}, Label: {ent.label_}\")\n",
    "    \n",
    "    print(\"\\n\")\n"
   ]
  },
  {
   "cell_type": "code",
   "execution_count": null,
   "metadata": {},
   "outputs": [],
   "source": []
  }
 ],
 "metadata": {
  "kernelspec": {
   "display_name": "Python 3",
   "language": "python",
   "name": "python3"
  },
  "language_info": {
   "codemirror_mode": {
    "name": "ipython",
    "version": 3
   },
   "file_extension": ".py",
   "mimetype": "text/x-python",
   "name": "python",
   "nbconvert_exporter": "python",
   "pygments_lexer": "ipython3",
   "version": "3.10.12"
  }
 },
 "nbformat": 4,
 "nbformat_minor": 2
}
