{
  "nbformat": 4,
  "nbformat_minor": 0,
  "metadata": {
    "colab": {
      "provenance": [],
      "gpuType": "T4"
    },
    "kernelspec": {
      "name": "python3",
      "display_name": "Python 3"
    },
    "language_info": {
      "name": "python"
    },
    "accelerator": "GPU"
  },
  "cells": [
    {
      "cell_type": "code",
      "execution_count": null,
      "metadata": {
        "colab": {
          "base_uri": "https://localhost:8080/"
        },
        "id": "QUKIZU5W_3n2",
        "outputId": "5d91772d-6fd0-49a7-e913-e3ef3bb7fd48"
      },
      "outputs": [
        {
          "output_type": "stream",
          "name": "stdout",
          "text": [
            "Collecting tensorflow-gpu\n",
            "  Using cached tensorflow-gpu-2.12.0.tar.gz (2.6 kB)\n",
            "  \u001b[1;31merror\u001b[0m: \u001b[1msubprocess-exited-with-error\u001b[0m\n",
            "  \n",
            "  \u001b[31m×\u001b[0m \u001b[32mpython setup.py egg_info\u001b[0m did not run successfully.\n",
            "  \u001b[31m│\u001b[0m exit code: \u001b[1;36m1\u001b[0m\n",
            "  \u001b[31m╰─>\u001b[0m See above for output.\n",
            "  \n",
            "  \u001b[1;35mnote\u001b[0m: This error originates from a subprocess, and is likely not a problem with pip.\n",
            "  Preparing metadata (setup.py) ... \u001b[?25l\u001b[?25herror\n",
            "\u001b[1;31merror\u001b[0m: \u001b[1mmetadata-generation-failed\u001b[0m\n",
            "\n",
            "\u001b[31m×\u001b[0m Encountered error while generating package metadata.\n",
            "\u001b[31m╰─>\u001b[0m See above for output.\n",
            "\n",
            "\u001b[1;35mnote\u001b[0m: This is an issue with the package mentioned above, not pip.\n",
            "\u001b[1;36mhint\u001b[0m: See above for details.\n"
          ]
        }
      ],
      "source": [
        "!pip install tensorflow-gpu"
      ]
    },
    {
      "cell_type": "code",
      "source": [
        "import tensorflow as tf"
      ],
      "metadata": {
        "id": "NZPLgzMCBFsW"
      },
      "execution_count": 4,
      "outputs": []
    },
    {
      "cell_type": "code",
      "source": [
        "print(tf.__version__)"
      ],
      "metadata": {
        "colab": {
          "base_uri": "https://localhost:8080/"
        },
        "id": "mpTq__NhB8ZQ",
        "outputId": "c72439fd-00b6-4280-f8a2-af5ee9026cd8"
      },
      "execution_count": 5,
      "outputs": [
        {
          "output_type": "stream",
          "name": "stdout",
          "text": [
            "2.15.0\n"
          ]
        }
      ]
    },
    {
      "cell_type": "code",
      "source": [
        "from tensorflow.keras.preprocessing.text import one_hot"
      ],
      "metadata": {
        "id": "N9d4yjfpCAK4"
      },
      "execution_count": 6,
      "outputs": []
    },
    {
      "cell_type": "code",
      "source": [
        "sent = [\n",
        "    'I am a good boy',\n",
        "    'I like to drink tea',\n",
        "    'we will we will rockyou',\n",
        "    'Is this the real life',\n",
        "    'Is this just fantasy'\n",
        "]"
      ],
      "metadata": {
        "id": "WggixNfPCIeG"
      },
      "execution_count": 7,
      "outputs": []
    },
    {
      "cell_type": "code",
      "source": [
        "sent"
      ],
      "metadata": {
        "colab": {
          "base_uri": "https://localhost:8080/"
        },
        "id": "c4VtzP7UC2qQ",
        "outputId": "284fb85d-7bbd-4761-ccab-630fd4a70685"
      },
      "execution_count": 8,
      "outputs": [
        {
          "output_type": "execute_result",
          "data": {
            "text/plain": [
              "['I am a good boy',\n",
              " 'I like to drink tea',\n",
              " 'we will we will rockyou',\n",
              " 'Is this the real life',\n",
              " 'Is this just fantasy']"
            ]
          },
          "metadata": {},
          "execution_count": 8
        }
      ]
    },
    {
      "cell_type": "code",
      "source": [
        "vocab_size = 500"
      ],
      "metadata": {
        "id": "Fw1t7PC6C55T"
      },
      "execution_count": 9,
      "outputs": []
    },
    {
      "cell_type": "code",
      "source": [
        "oneh_repr = [one_hot(word , vocab_size) for word in sent]"
      ],
      "metadata": {
        "id": "73UEDpaYC-eS"
      },
      "execution_count": 10,
      "outputs": []
    },
    {
      "cell_type": "code",
      "source": [
        "print(oneh_repr)"
      ],
      "metadata": {
        "colab": {
          "base_uri": "https://localhost:8080/"
        },
        "id": "nxETNk1dDG_F",
        "outputId": "60fe692c-cd1c-47a7-b137-de76a9e1226b"
      },
      "execution_count": 11,
      "outputs": [
        {
          "output_type": "stream",
          "name": "stdout",
          "text": [
            "[[305, 318, 200, 370, 252], [305, 251, 217, 419, 365], [261, 80, 261, 80, 412], [280, 200, 178, 455, 282], [280, 200, 130, 284]]\n"
          ]
        }
      ]
    },
    {
      "cell_type": "code",
      "source": [
        "from tensorflow.keras.layers import Embedding\n",
        "from tensorflow.keras.preprocessing.sequence import pad_sequences\n",
        "from tensorflow.keras.models import Sequential"
      ],
      "metadata": {
        "id": "rF7g_QuvDIlh"
      },
      "execution_count": 12,
      "outputs": []
    },
    {
      "cell_type": "code",
      "source": [
        "cons_repr = pad_sequences(oneh_repr, padding = 'pre' , maxlen = 8 )\n",
        "print(cons_repr)"
      ],
      "metadata": {
        "id": "nGLcejgyEB8N",
        "colab": {
          "base_uri": "https://localhost:8080/"
        },
        "outputId": "56ede9f1-54a4-4b10-ebd0-1b152ddd6596"
      },
      "execution_count": 14,
      "outputs": [
        {
          "output_type": "stream",
          "name": "stdout",
          "text": [
            "[[  0   0   0 305 318 200 370 252]\n",
            " [  0   0   0 305 251 217 419 365]\n",
            " [  0   0   0 261  80 261  80 412]\n",
            " [  0   0   0 280 200 178 455 282]\n",
            " [  0   0   0   0 280 200 130 284]]\n"
          ]
        }
      ]
    },
    {
      "cell_type": "code",
      "source": [
        "# model = Sequential()\n",
        "# model.add(Embedding(vocab_size , 10 , input_length = 8))\n",
        "# model.compile('adam' , 'mse')"
      ],
      "metadata": {
        "id": "oSbNzFyacyNz"
      },
      "execution_count": 47,
      "outputs": []
    },
    {
      "cell_type": "code",
      "source": [
        "# model.summary()"
      ],
      "metadata": {
        "id": "E_uuWl6nfas8"
      },
      "execution_count": 48,
      "outputs": []
    },
    {
      "cell_type": "code",
      "source": [
        "cons_repr[0]"
      ],
      "metadata": {
        "colab": {
          "base_uri": "https://localhost:8080/"
        },
        "id": "Z_LcQfp4fcoP",
        "outputId": "a70a18ee-e051-4a6a-ab6c-b1890eb76310"
      },
      "execution_count": 19,
      "outputs": [
        {
          "output_type": "execute_result",
          "data": {
            "text/plain": [
              "array([  0,   0,   0, 305, 318, 200, 370, 252], dtype=int32)"
            ]
          },
          "metadata": {},
          "execution_count": 19
        }
      ]
    },
    {
      "cell_type": "code",
      "source": [
        "# model.predict(cons_repr)"
      ],
      "metadata": {
        "id": "wC6EAKliflUK"
      },
      "execution_count": 34,
      "outputs": []
    },
    {
      "cell_type": "code",
      "source": [
        "sentence = \"One of the other reviewers has mentioned that after watching just 1 Oz episode you will be hooked. They are right, as this is exactly what happened with me. The first thing that struck me about Oz was its brutality and unflinching scenes of violence, which set in right from the word GO. Trust me, this is not a show for the faint hearted or timid. This show pulls no punches with regards to drugs, sex or violence. Its is hardcore, in the classic use of the word. It is called OZ as that is the nickname given to the Oswald Maximum Security State Penitentary.\"\n",
        ""
      ],
      "metadata": {
        "id": "3Ddq1GPVfx6o"
      },
      "execution_count": 29,
      "outputs": []
    },
    {
      "cell_type": "code",
      "source": [
        "import nltk\n",
        "nltk.download('punkt')"
      ],
      "metadata": {
        "colab": {
          "base_uri": "https://localhost:8080/"
        },
        "id": "1bAujBgBjReb",
        "outputId": "286e009e-a2db-4257-eaaf-002f3e0608cd"
      },
      "execution_count": 26,
      "outputs": [
        {
          "output_type": "stream",
          "name": "stderr",
          "text": [
            "[nltk_data] Downloading package punkt to /root/nltk_data...\n",
            "[nltk_data]   Unzipping tokenizers/punkt.zip.\n"
          ]
        },
        {
          "output_type": "execute_result",
          "data": {
            "text/plain": [
              "True"
            ]
          },
          "metadata": {},
          "execution_count": 26
        }
      ]
    },
    {
      "cell_type": "code",
      "source": [
        "from nltk.tokenize import sent_tokenize"
      ],
      "metadata": {
        "id": "TgvkSIn7jSsd"
      },
      "execution_count": 27,
      "outputs": []
    },
    {
      "cell_type": "code",
      "source": [
        "another_one = sent_tokenize(sentence)"
      ],
      "metadata": {
        "id": "Ozlxg9FAjW3a"
      },
      "execution_count": 32,
      "outputs": []
    },
    {
      "cell_type": "code",
      "source": [
        "another_one[2]"
      ],
      "metadata": {
        "colab": {
          "base_uri": "https://localhost:8080/",
          "height": 35
        },
        "id": "nzjhBxypkjfP",
        "outputId": "2a791073-4bf5-4bb6-d9c7-11216045f01b"
      },
      "execution_count": 40,
      "outputs": [
        {
          "output_type": "execute_result",
          "data": {
            "text/plain": [
              "'The first thing that struck me about Oz was its brutality and unflinching scenes of violence, which set in right from the word GO.'"
            ],
            "application/vnd.google.colaboratory.intrinsic+json": {
              "type": "string"
            }
          },
          "metadata": {},
          "execution_count": 40
        }
      ]
    },
    {
      "cell_type": "code",
      "source": [
        "onehot = [one_hot(word , vocab_size) for word in another_one]"
      ],
      "metadata": {
        "id": "hkpEsytKjhq0"
      },
      "execution_count": 35,
      "outputs": []
    },
    {
      "cell_type": "code",
      "source": [
        "padded = pad_sequences(onehot , padding = 'pre' , maxlen = 25)"
      ],
      "metadata": {
        "id": "oZEMaHosj8Lj"
      },
      "execution_count": 45,
      "outputs": []
    },
    {
      "cell_type": "code",
      "source": [
        "padded"
      ],
      "metadata": {
        "colab": {
          "base_uri": "https://localhost:8080/"
        },
        "id": "BNngizRzkgBp",
        "outputId": "ef01aaf7-9619-427b-8e5e-b771cb1ae41e"
      },
      "execution_count": 46,
      "outputs": [
        {
          "output_type": "execute_result",
          "data": {
            "text/plain": [
              "array([[  0,   0,   0,   0,   0,   0,   0, 200,  58, 178,  18, 137, 324,\n",
              "        439,  80, 452, 305, 130, 192, 498, 142, 217,  80, 339, 428],\n",
              "       [  0,   0,   0,   0,   0,   0,   0,   0,   0,   0,   0,   0,   0,\n",
              "          0, 433, 247, 178, 340, 200, 280, 320, 234, 345, 134, 131],\n",
              "       [  0, 178, 475, 122,  80, 435, 131,  88, 498, 109, 358, 240, 447,\n",
              "        117, 296,  58, 109, 206, 351, 419, 178, 480, 178, 287, 462],\n",
              "       [  0,   0,   0,   0,   0,   0,   0,   0,   0,   0,   0,   0, 243,\n",
              "        131, 200, 280, 249, 200, 150, 427, 178,  73, 237, 460, 105],\n",
              "       [  0,   0,   0,   0,   0,   0,   0,   0,   0,   0,   0,   0,   0,\n",
              "        200, 150,  31, 202,  88, 134, 399, 217, 221, 338, 460, 109],\n",
              "       [  0,   0,   0,   0,   0,   0,   0,   0,   0,   0,   0,   0,   0,\n",
              "          0,   0, 358, 280, 423, 419, 178, 162, 343,  58, 178, 287],\n",
              "       [  0,   0,   0,   0,   0,   0,   0,   0,  76, 280, 138, 498, 340,\n",
              "         80, 280, 178, 199, 209, 217, 178, 435, 270, 460, 490,   7]],\n",
              "      dtype=int32)"
            ]
          },
          "metadata": {},
          "execution_count": 46
        }
      ]
    },
    {
      "cell_type": "code",
      "source": [
        "model = Sequential()\n",
        "model.add(Embedding(vocab_size , 25 , input_length = 25))\n",
        "model.compile('adam' , 'mse')"
      ],
      "metadata": {
        "id": "PGwfQcxClDhH"
      },
      "execution_count": 55,
      "outputs": []
    },
    {
      "cell_type": "code",
      "source": [
        "model.summary()"
      ],
      "metadata": {
        "colab": {
          "base_uri": "https://localhost:8080/"
        },
        "id": "Lcfl6lwcl2fQ",
        "outputId": "1e236017-1c72-4c2f-acdd-f164201914a6"
      },
      "execution_count": 56,
      "outputs": [
        {
          "output_type": "stream",
          "name": "stdout",
          "text": [
            "Model: \"sequential_3\"\n",
            "_________________________________________________________________\n",
            " Layer (type)                Output Shape              Param #   \n",
            "=================================================================\n",
            " embedding_3 (Embedding)     (None, 25, 25)            12500     \n",
            "                                                                 \n",
            "=================================================================\n",
            "Total params: 12500 (48.83 KB)\n",
            "Trainable params: 12500 (48.83 KB)\n",
            "Non-trainable params: 0 (0.00 Byte)\n",
            "_________________________________________________________________\n"
          ]
        }
      ]
    },
    {
      "cell_type": "code",
      "source": [
        "model.predict(padded[0])"
      ],
      "metadata": {
        "colab": {
          "base_uri": "https://localhost:8080/"
        },
        "id": "q7Dx13ywl4hg",
        "outputId": "2ec21dfd-3992-474d-d664-90a80b928ae6"
      },
      "execution_count": 57,
      "outputs": [
        {
          "output_type": "stream",
          "name": "stderr",
          "text": [
            "WARNING:tensorflow:5 out of the last 5 calls to <function Model.make_predict_function.<locals>.predict_function at 0x7866b1782cb0> triggered tf.function retracing. Tracing is expensive and the excessive number of tracings could be due to (1) creating @tf.function repeatedly in a loop, (2) passing tensors with different shapes, (3) passing Python objects instead of tensors. For (1), please define your @tf.function outside of the loop. For (2), @tf.function has reduce_retracing=True option that can avoid unnecessary retracing. For (3), please refer to https://www.tensorflow.org/guide/function#controlling_retracing and https://www.tensorflow.org/api_docs/python/tf/function for  more details.\n"
          ]
        },
        {
          "output_type": "stream",
          "name": "stdout",
          "text": [
            "1/1 [==============================] - 0s 54ms/step\n"
          ]
        },
        {
          "output_type": "execute_result",
          "data": {
            "text/plain": [
              "array([[-0.04992566,  0.03388891, -0.00953655,  0.00018588, -0.03197832,\n",
              "         0.0222186 , -0.02566226, -0.02955401, -0.03886598,  0.01418212,\n",
              "         0.03308463,  0.01463587,  0.01440475, -0.04974651,  0.03968395,\n",
              "        -0.02080244, -0.00622611,  0.00382073, -0.03293514,  0.00485414,\n",
              "        -0.01763129, -0.0038051 , -0.01141833, -0.02746295,  0.01363135],\n",
              "       [-0.04992566,  0.03388891, -0.00953655,  0.00018588, -0.03197832,\n",
              "         0.0222186 , -0.02566226, -0.02955401, -0.03886598,  0.01418212,\n",
              "         0.03308463,  0.01463587,  0.01440475, -0.04974651,  0.03968395,\n",
              "        -0.02080244, -0.00622611,  0.00382073, -0.03293514,  0.00485414,\n",
              "        -0.01763129, -0.0038051 , -0.01141833, -0.02746295,  0.01363135],\n",
              "       [-0.04992566,  0.03388891, -0.00953655,  0.00018588, -0.03197832,\n",
              "         0.0222186 , -0.02566226, -0.02955401, -0.03886598,  0.01418212,\n",
              "         0.03308463,  0.01463587,  0.01440475, -0.04974651,  0.03968395,\n",
              "        -0.02080244, -0.00622611,  0.00382073, -0.03293514,  0.00485414,\n",
              "        -0.01763129, -0.0038051 , -0.01141833, -0.02746295,  0.01363135],\n",
              "       [-0.04992566,  0.03388891, -0.00953655,  0.00018588, -0.03197832,\n",
              "         0.0222186 , -0.02566226, -0.02955401, -0.03886598,  0.01418212,\n",
              "         0.03308463,  0.01463587,  0.01440475, -0.04974651,  0.03968395,\n",
              "        -0.02080244, -0.00622611,  0.00382073, -0.03293514,  0.00485414,\n",
              "        -0.01763129, -0.0038051 , -0.01141833, -0.02746295,  0.01363135],\n",
              "       [-0.04992566,  0.03388891, -0.00953655,  0.00018588, -0.03197832,\n",
              "         0.0222186 , -0.02566226, -0.02955401, -0.03886598,  0.01418212,\n",
              "         0.03308463,  0.01463587,  0.01440475, -0.04974651,  0.03968395,\n",
              "        -0.02080244, -0.00622611,  0.00382073, -0.03293514,  0.00485414,\n",
              "        -0.01763129, -0.0038051 , -0.01141833, -0.02746295,  0.01363135],\n",
              "       [-0.04992566,  0.03388891, -0.00953655,  0.00018588, -0.03197832,\n",
              "         0.0222186 , -0.02566226, -0.02955401, -0.03886598,  0.01418212,\n",
              "         0.03308463,  0.01463587,  0.01440475, -0.04974651,  0.03968395,\n",
              "        -0.02080244, -0.00622611,  0.00382073, -0.03293514,  0.00485414,\n",
              "        -0.01763129, -0.0038051 , -0.01141833, -0.02746295,  0.01363135],\n",
              "       [-0.04992566,  0.03388891, -0.00953655,  0.00018588, -0.03197832,\n",
              "         0.0222186 , -0.02566226, -0.02955401, -0.03886598,  0.01418212,\n",
              "         0.03308463,  0.01463587,  0.01440475, -0.04974651,  0.03968395,\n",
              "        -0.02080244, -0.00622611,  0.00382073, -0.03293514,  0.00485414,\n",
              "        -0.01763129, -0.0038051 , -0.01141833, -0.02746295,  0.01363135],\n",
              "       [-0.00364822, -0.02483461,  0.0162706 , -0.00689089,  0.03316679,\n",
              "        -0.00786322,  0.02223413, -0.02054431,  0.03948467,  0.02017189,\n",
              "         0.0257149 ,  0.01352772,  0.0390065 ,  0.00094932, -0.02716745,\n",
              "         0.01646498, -0.01365609, -0.02801209, -0.02164842,  0.00229155,\n",
              "        -0.02312064, -0.02987777, -0.03752915, -0.01237337,  0.0412205 ],\n",
              "       [ 0.00782318, -0.0054905 , -0.0236034 ,  0.02574808,  0.02490574,\n",
              "         0.04490432,  0.01704342,  0.00581778,  0.04161317,  0.00895003,\n",
              "        -0.00572022, -0.04785221, -0.00917013,  0.04968699, -0.01381929,\n",
              "        -0.02917016, -0.01845239,  0.01369313,  0.02830083, -0.03868618,\n",
              "        -0.02463917,  0.02836808, -0.00214164, -0.01093087, -0.03811113],\n",
              "       [-0.01143981,  0.03556338,  0.00407133,  0.01823637,  0.01316169,\n",
              "        -0.00163759, -0.04140568, -0.04113171, -0.01190709, -0.04434408,\n",
              "         0.02400707,  0.00815802,  0.02563212, -0.03769828,  0.04833472,\n",
              "        -0.0046351 ,  0.03267156, -0.02200791, -0.04055483,  0.00206243,\n",
              "        -0.04490104, -0.01282811, -0.01847123,  0.04532644,  0.04000327],\n",
              "       [-0.01017972,  0.0440813 ,  0.04012182,  0.03750703,  0.0004769 ,\n",
              "        -0.04172941,  0.02801693,  0.04212904, -0.01747597, -0.04605203,\n",
              "        -0.03766565,  0.02663269, -0.00517396, -0.01835871, -0.01143287,\n",
              "        -0.04550655, -0.02545661,  0.01481017,  0.03281647,  0.01759261,\n",
              "        -0.03148954, -0.00220447, -0.00866155, -0.01929611,  0.01280297],\n",
              "       [ 0.03613758,  0.00138343, -0.0192585 ,  0.00669942, -0.01142769,\n",
              "        -0.01594883, -0.01156234, -0.03294021,  0.00222721, -0.04938641,\n",
              "        -0.04567472,  0.00425703, -0.01809683,  0.00061066,  0.0302634 ,\n",
              "        -0.04423038,  0.01537416,  0.03577318, -0.04521411, -0.0172292 ,\n",
              "        -0.03821196, -0.00808251, -0.03757269,  0.04952139,  0.0087796 ],\n",
              "       [ 0.02862754, -0.01417819,  0.0314567 , -0.04683421,  0.00688982,\n",
              "        -0.04662907,  0.03850618, -0.04740257,  0.02592233,  0.00392164,\n",
              "        -0.02314419,  0.02873566, -0.0441926 ,  0.01901257,  0.02767873,\n",
              "        -0.00955028,  0.02550529,  0.02216545, -0.00020968,  0.01321781,\n",
              "         0.01399374, -0.04488156,  0.01205844, -0.04958184,  0.03902536],\n",
              "       [ 0.0470624 , -0.01481066,  0.02468358,  0.0179156 ,  0.02284019,\n",
              "        -0.01379846, -0.03508116, -0.00955548, -0.01350128,  0.03287287,\n",
              "        -0.0337405 , -0.02830417, -0.04672314, -0.03805213, -0.01065488,\n",
              "         0.03648027,  0.01578859,  0.04995394, -0.04908855, -0.03503929,\n",
              "         0.01897923, -0.04169005,  0.04094105, -0.03218917,  0.01315352],\n",
              "       [ 0.0174801 , -0.00484405, -0.02294097,  0.01350422, -0.02388223,\n",
              "        -0.02431414, -0.00433763,  0.02684403, -0.01091408, -0.02878542,\n",
              "         0.01094197,  0.0284516 ,  0.02314803,  0.00453309, -0.03646161,\n",
              "        -0.04977569,  0.04243399, -0.00507085,  0.03445835,  0.04530034,\n",
              "         0.04183521, -0.04415819, -0.04783323,  0.00625744,  0.03999051],\n",
              "       [ 0.01453159,  0.03545678, -0.02564784, -0.01461639,  0.01564051,\n",
              "         0.01118311,  0.02129275, -0.03815639,  0.03032345, -0.04670364,\n",
              "        -0.00445241, -0.01941254, -0.04478924,  0.00589645,  0.03163007,\n",
              "         0.03613399, -0.02578423, -0.04534177,  0.04274383, -0.02790093,\n",
              "        -0.03441145, -0.02374314,  0.02653876, -0.02740531,  0.00440015],\n",
              "       [-0.0112095 , -0.02047112,  0.00107734, -0.04438162, -0.02576379,\n",
              "         0.04327035,  0.00824543, -0.03139482, -0.02768653, -0.00559118,\n",
              "         0.00655969, -0.00564869, -0.00743364, -0.03413506, -0.01980969,\n",
              "        -0.01361995, -0.04255496,  0.00853751, -0.03449889,  0.0476614 ,\n",
              "        -0.03402432,  0.01286223,  0.0444167 , -0.04710603,  0.01936464],\n",
              "       [-0.03504888, -0.00439875,  0.00602595,  0.02578064,  0.04142861,\n",
              "         0.03448743,  0.02503299, -0.01789036,  0.02041595, -0.01696912,\n",
              "        -0.00575253, -0.0410565 , -0.04697866, -0.04955975,  0.00452517,\n",
              "         0.03674557,  0.02314044, -0.02839614, -0.04145025,  0.02371169,\n",
              "         0.04965124, -0.03870273, -0.01573666, -0.00243225,  0.02584663],\n",
              "       [ 0.01771906,  0.04829806,  0.03527303, -0.03489023,  0.03430332,\n",
              "         0.00796741,  0.02059912, -0.00798076, -0.03253043, -0.02557033,\n",
              "        -0.04594719,  0.0448282 ,  0.00325863, -0.03146422, -0.00461004,\n",
              "        -0.0224264 , -0.01198415, -0.04638202,  0.02707526, -0.04797591,\n",
              "         0.03885612, -0.01309868,  0.02080845,  0.01391019,  0.04129854],\n",
              "       [-0.00341918, -0.03436351,  0.00173895,  0.02259641, -0.00335559,\n",
              "        -0.02896481, -0.03609629, -0.03636784, -0.04833732,  0.03735362,\n",
              "         0.01375774, -0.04449651, -0.03050232, -0.03644807,  0.00190808,\n",
              "         0.01743937,  0.0069514 ,  0.00631202,  0.02671571,  0.03391081,\n",
              "        -0.04995426,  0.02153165,  0.03608536, -0.03473641,  0.0239055 ],\n",
              "       [-0.0274973 ,  0.02892444,  0.02626178,  0.04043793, -0.0170481 ,\n",
              "         0.03508388, -0.01807446,  0.01810792, -0.04993068,  0.01908914,\n",
              "         0.01218542, -0.04156606, -0.04800756,  0.00563238,  0.02156102,\n",
              "         0.03076488, -0.00487455, -0.03148983, -0.0381621 , -0.00128799,\n",
              "         0.03718165,  0.02681096,  0.02418392,  0.02502271,  0.02419175],\n",
              "       [ 0.01622058,  0.01594747, -0.01902485,  0.00378739, -0.0253733 ,\n",
              "        -0.02808119,  0.03152348, -0.04900506, -0.0212135 ,  0.04672085,\n",
              "        -0.02144167, -0.01180202,  0.04027114,  0.01264179, -0.00924829,\n",
              "        -0.00602432, -0.00453116,  0.00577633, -0.03751779, -0.04069529,\n",
              "        -0.02171723, -0.02973523, -0.04858282,  0.03534413, -0.00110107],\n",
              "       [ 0.0174801 , -0.00484405, -0.02294097,  0.01350422, -0.02388223,\n",
              "        -0.02431414, -0.00433763,  0.02684403, -0.01091408, -0.02878542,\n",
              "         0.01094197,  0.0284516 ,  0.02314803,  0.00453309, -0.03646161,\n",
              "        -0.04977569,  0.04243399, -0.00507085,  0.03445835,  0.04530034,\n",
              "         0.04183521, -0.04415819, -0.04783323,  0.00625744,  0.03999051],\n",
              "       [-0.0133936 ,  0.04877854,  0.03651455,  0.00935536, -0.01880852,\n",
              "         0.00153326,  0.04517596, -0.02739459,  0.01400099, -0.0134567 ,\n",
              "        -0.01322861,  0.03700015, -0.02729579, -0.04361972, -0.00534517,\n",
              "        -0.04779918,  0.03560508, -0.00314378, -0.00327488,  0.02158174,\n",
              "        -0.00641123, -0.01012533,  0.04125862,  0.04529313,  0.02225938],\n",
              "       [-0.01599924, -0.03948083,  0.01297113, -0.02180208,  0.03678802,\n",
              "         0.01976471,  0.04326442, -0.04997316,  0.0172726 , -0.00388359,\n",
              "         0.00450327,  0.02018341,  0.00124421, -0.00842113, -0.00967648,\n",
              "         0.03658353, -0.01600193, -0.03299843, -0.03396308, -0.01883937,\n",
              "        -0.04531118,  0.02717401,  0.0390852 ,  0.02603538, -0.03137114]],\n",
              "      dtype=float32)"
            ]
          },
          "metadata": {},
          "execution_count": 57
        }
      ]
    },
    {
      "cell_type": "code",
      "source": [],
      "metadata": {
        "id": "zrZco7fpl_qT"
      },
      "execution_count": null,
      "outputs": []
    }
  ]
}